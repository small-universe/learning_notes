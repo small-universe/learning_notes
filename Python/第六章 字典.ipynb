{
 "cells": [
  {
   "cell_type": "code",
   "execution_count": 1,
   "metadata": {},
   "outputs": [],
   "source": [
    "#列表\n",
    "cars = ['bmw','suzuki']"
   ]
  },
  {
   "cell_type": "code",
   "execution_count": 3,
   "metadata": {},
   "outputs": [],
   "source": [
    "#元组(不可变的列表)\n",
    "dimensions = (200,50)"
   ]
  },
  {
   "cell_type": "markdown",
   "metadata": {},
   "source": [
    "## 6.1 一个简单的字典"
   ]
  },
  {
   "cell_type": "code",
   "execution_count": 4,
   "metadata": {},
   "outputs": [
    {
     "name": "stdout",
     "output_type": "stream",
     "text": [
      "green\n",
      "5\n"
     ]
    }
   ],
   "source": [
    "#字典中是一系列的键值对\n",
    "alien_0 = {'color': 'green', 'points': 5} \n",
    " \n",
    "print(alien_0['color']) \n",
    "print(alien_0['points']) "
   ]
  },
  {
   "cell_type": "markdown",
   "metadata": {},
   "source": [
    "### 6.2.1 访问字典中的值"
   ]
  },
  {
   "cell_type": "code",
   "execution_count": 5,
   "metadata": {},
   "outputs": [
    {
     "name": "stdout",
     "output_type": "stream",
     "text": [
      "You just earned 5 points!\n"
     ]
    }
   ],
   "source": [
    "alien_0 = {'color': 'green', 'points': 5} \n",
    "new_points = alien_0['points'] \n",
    "print(\"You just earned \" + str(new_points) + \" points!\") "
   ]
  },
  {
   "cell_type": "markdown",
   "metadata": {},
   "source": [
    "### 6.2.2 添加键—值对"
   ]
  },
  {
   "cell_type": "code",
   "execution_count": 6,
   "metadata": {},
   "outputs": [
    {
     "name": "stdout",
     "output_type": "stream",
     "text": [
      "{'color': 'green', 'points': 5}\n",
      "{'color': 'green', 'points': 5, 'x_position': 0, 'y_position': 25}\n"
     ]
    }
   ],
   "source": [
    "alien_0 = {'color': 'green', 'points': 5} \n",
    "print(alien_0) \n",
    "alien_0['x_position'] = 0 \n",
    "alien_0['y_position'] = 25 \n",
    "print(alien_0) "
   ]
  },
  {
   "cell_type": "markdown",
   "metadata": {},
   "source": [
    "### 6.2.3先创建一个空字典"
   ]
  },
  {
   "cell_type": "code",
   "execution_count": 8,
   "metadata": {},
   "outputs": [
    {
     "name": "stdout",
     "output_type": "stream",
     "text": [
      "{'color': 'green', 'points': 5}\n"
     ]
    }
   ],
   "source": [
    "alien_0 = {} \n",
    " #分行添加各个键值对\n",
    "alien_0['color'] = 'green' \n",
    "alien_0['points'] = 5\n",
    "print(alien_0)"
   ]
  },
  {
   "cell_type": "markdown",
   "metadata": {},
   "source": [
    "### 6.2.4修改字典中的值"
   ]
  },
  {
   "cell_type": "code",
   "execution_count": 9,
   "metadata": {},
   "outputs": [
    {
     "name": "stdout",
     "output_type": "stream",
     "text": [
      "The alien is green.\n",
      "The alien is now yellow.\n"
     ]
    }
   ],
   "source": [
    "alien_0 = {'color': 'green'} \n",
    "#现在外星人的颜色是：\n",
    "print(\"The alien is \" + alien_0['color'] + \".\") \n",
    "#修改了外星人的颜色是黄色：\n",
    "alien_0['color'] = 'yellow' \n",
    "print(\"The alien is now \" + alien_0['color'] + \".\") "
   ]
  },
  {
   "cell_type": "code",
   "execution_count": 11,
   "metadata": {},
   "outputs": [
    {
     "name": "stdout",
     "output_type": "stream",
     "text": [
      "Original x-position: 0\n",
      "New x-position: 2\n"
     ]
    }
   ],
   "source": [
    "#：对一个能够以不同速度移动的外星人的位置进行跟踪。\n",
    "#为此，我们 将存储该外星人的当前速度，并据此确定该外星人将向右移动多远： \n",
    "alien_0 = {'x_position': 0, 'y_position': 25, 'speed': 'medium'} \n",
    "print(\"Original x-position: \" + str(alien_0['x_position'])) \n",
    " \n",
    "# 向右移动外星人 \n",
    "# 据外星人当前速度决定将其移动多远 \n",
    "if alien_0['speed'] == 'slow':     \n",
    "    x_increment = 1 \n",
    "elif alien_0['speed'] == 'medium':     \n",
    "    x_increment = 2 \n",
    "else:     \n",
    "    # 这个外星人的速度一定很快    \n",
    "    x_increment = 3 \n",
    " \n",
    "# 新位置等于老位置加上增量 \n",
    "alien_0['x_position'] = alien_0['x_position'] + x_increment \n",
    "print(\"New x-position: \" + str(alien_0['x_position'])) "
   ]
  },
  {
   "cell_type": "markdown",
   "metadata": {},
   "source": [
    "### 6.2.5 删除键值对"
   ]
  },
  {
   "cell_type": "code",
   "execution_count": 14,
   "metadata": {},
   "outputs": [
    {
     "name": "stdout",
     "output_type": "stream",
     "text": [
      "{'color': 'green', 'points': 5}\n",
      "{'color': 'green'}\n"
     ]
    }
   ],
   "source": [
    "alien_0 = {'color': 'green', 'points': 5} \n",
    "print(alien_0) \n",
    "del alien_0['points'] \n",
    "print(alien_0)"
   ]
  },
  {
   "cell_type": "markdown",
   "metadata": {},
   "source": [
    "###  6.2.6 由类似对象组成的字典"
   ]
  },
  {
   "cell_type": "code",
   "execution_count": 15,
   "metadata": {},
   "outputs": [
    {
     "name": "stdout",
     "output_type": "stream",
     "text": [
      "Sarah's favorite language is C.\n"
     ]
    }
   ],
   "source": [
    "favorite_languages = {    \n",
    "    'jen': 'python',   \n",
    "    'sarah': 'c',    \n",
    "    'edward': 'ruby',     \n",
    "    'phil': 'python',    \n",
    "    } \n",
    "print(\"Sarah's favorite language is \" +favorite_languages['sarah'].title() +\".\") "
   ]
  },
  {
   "cell_type": "markdown",
   "metadata": {},
   "source": [
    "## 6.3 遍历字典"
   ]
  },
  {
   "cell_type": "markdown",
   "metadata": {},
   "source": [
    "### 6.3.1 遍历所有的键值对"
   ]
  },
  {
   "cell_type": "code",
   "execution_count": 16,
   "metadata": {
    "scrolled": true
   },
   "outputs": [
    {
     "name": "stdout",
     "output_type": "stream",
     "text": [
      "\n",
      "Key: username\n",
      "Value: efermi\n",
      "\n",
      "Key: first\n",
      "Value: enrico\n",
      "\n",
      "Key: last\n",
      "Value: fermi\n"
     ]
    }
   ],
   "source": [
    "#即便遍历字典时，键—值对的返回顺序也与存储顺序不同。\n",
    "#Python不关心键—值对的存 储顺序，而只跟踪键和值之间的关联关系。 \n",
    "user_0 = {     \n",
    "    'username': 'efermi',     \n",
    "    'first': 'enrico',     \n",
    "    'last': 'fermi',     \n",
    "    } \n",
    "for key, value in user_0.items(): \n",
    "    print(\"\\nKey: \" + key) \n",
    "    print(\"Value: \" + value)"
   ]
  },
  {
   "cell_type": "markdown",
   "metadata": {},
   "source": [
    "### 6.3.2 遍历字典中的所有键"
   ]
  },
  {
   "cell_type": "code",
   "execution_count": 19,
   "metadata": {},
   "outputs": [
    {
     "name": "stdout",
     "output_type": "stream",
     "text": [
      "name: jen\n",
      "name: sarah\n",
      "name: edward\n",
      "name: phil\n"
     ]
    }
   ],
   "source": [
    "favorite_languages = {    \n",
    "    'jen': 'python',   \n",
    "    'sarah': 'c',    \n",
    "    'edward': 'ruby',     \n",
    "    'phil': 'python',    \n",
    "    } \n",
    "for key in favorite_languages.keys(): \n",
    "    print(\"name: \" + key) "
   ]
  },
  {
   "cell_type": "markdown",
   "metadata": {},
   "source": [
    "### 6.3.3 按顺序遍历字典中的所有键"
   ]
  },
  {
   "cell_type": "code",
   "execution_count": 21,
   "metadata": {},
   "outputs": [
    {
     "name": "stdout",
     "output_type": "stream",
     "text": [
      "Edward\n",
      "Jen\n",
      "Phil\n",
      "Sarah\n"
     ]
    }
   ],
   "source": [
    "favorite_languages = {    \n",
    "    'jen': 'python',   \n",
    "    'sarah': 'c',    \n",
    "    'edward': 'ruby',     \n",
    "    'phil': 'python',    \n",
    "    } \n",
    "for name in sorted(favorite_languages.keys()):     \n",
    "    print(name.title()) "
   ]
  },
  {
   "cell_type": "markdown",
   "metadata": {},
   "source": [
    "### 6.3.4 遍历字典中的所有 值"
   ]
  },
  {
   "cell_type": "code",
   "execution_count": 24,
   "metadata": {},
   "outputs": [
    {
     "name": "stdout",
     "output_type": "stream",
     "text": [
      "Python\n",
      "C\n",
      "Ruby\n",
      "Python\n",
      "\n",
      "\n",
      "C\n",
      "Python\n",
      "Ruby\n"
     ]
    }
   ],
   "source": [
    "favorite_languages = {    \n",
    "    'jen': 'python',   \n",
    "    'sarah': 'c',    \n",
    "    'edward': 'ruby',     \n",
    "    'phil': 'python',    \n",
    "    } \n",
    "for language in favorite_languages.values():     \n",
    "    print(language.title())\n",
    "print(\"\\n\")\n",
    "#set()找出列表中独一无二的元素，并使用这些元素来创建一个集合\n",
    "for language in set(favorite_languages.values()):     \n",
    "    print(language.title()) "
   ]
  },
  {
   "cell_type": "markdown",
   "metadata": {},
   "source": [
    "# 6.4 嵌套"
   ]
  },
  {
   "cell_type": "markdown",
   "metadata": {},
   "source": [
    "### 6.4.1 字典列表"
   ]
  },
  {
   "cell_type": "code",
   "execution_count": 26,
   "metadata": {},
   "outputs": [
    {
     "name": "stdout",
     "output_type": "stream",
     "text": [
      "{'color': 'green', 'points': 5}\n",
      "{'color': 'yellow', 'points': 10}\n",
      "{'color': 'red', 'points': 15}\n"
     ]
    }
   ],
   "source": [
    "alien_0 = {'color': 'green', 'points': 5} \n",
    "alien_1 = {'color': 'yellow', 'points': 10} \n",
    "alien_2 = {'color': 'red', 'points': 15} \n",
    "aliens = [alien_0, alien_1, alien_2]\n",
    "for alien in aliens:   \n",
    "    print(alien)"
   ]
  },
  {
   "cell_type": "code",
   "execution_count": 27,
   "metadata": {},
   "outputs": [
    {
     "name": "stdout",
     "output_type": "stream",
     "text": [
      "{'color': 'green', 'points': 5, 'speed': 'slow'}\n",
      "{'color': 'green', 'points': 5, 'speed': 'slow'}\n",
      "{'color': 'green', 'points': 5, 'speed': 'slow'}\n",
      "{'color': 'green', 'points': 5, 'speed': 'slow'}\n",
      "{'color': 'green', 'points': 5, 'speed': 'slow'}\n",
      "...\n",
      "Total number of aliens: 30\n"
     ]
    }
   ],
   "source": [
    "#创建一个外星人空列表\n",
    "aliens = [] \n",
    " \n",
    "# 创建30个绿色的外星人 \n",
    "for alien_number in range(30): \n",
    "    new_alien = {'color': 'green', 'points': 5, 'speed': 'slow'}\n",
    "    aliens.append(new_alien)\n",
    "    # 显示前五个外星人 \n",
    "for alien in aliens[:5]:     \n",
    "    print(alien) \n",
    "print(\"...\") \n",
    " \n",
    "# 显示创建了多少个外星人 \n",
    "print(\"Total number of aliens: \" + str(len(aliens))) "
   ]
  },
  {
   "cell_type": "code",
   "execution_count": 31,
   "metadata": {},
   "outputs": [
    {
     "name": "stdout",
     "output_type": "stream",
     "text": [
      "{'color': 'yellow', 'points': 10, 'speed': 'medium'}\n",
      "{'color': 'yellow', 'points': 10, 'speed': 'medium'}\n",
      "{'color': 'yellow', 'points': 10, 'speed': 'medium'}\n",
      "{'color': 'green', 'points': 5, 'speed': 'slow'}\n",
      "{'color': 'green', 'points': 5, 'speed': 'slow'}\n",
      "...\n",
      "Total number of aliens: 30\n"
     ]
    }
   ],
   "source": [
    "\n",
    "aliens = [] \n",
    "for alien_number in range(30): \n",
    "    new_alien = {'color': 'green', 'points': 5, 'speed': 'slow'}\n",
    "    aliens.append(new_alien)\n",
    "    \n",
    "for alien in aliens[:3]:     \n",
    "    if alien['color'] == 'green':\n",
    "        alien['color'] = 'yellow'\n",
    "        alien['speed'] = 'medium'\n",
    "        alien['points'] = 10\n",
    "for alien in aliens[:5]:\n",
    "    print(alien)\n",
    "print(\"...\")\n",
    "\n",
    "print(\"Total number of aliens: \" + str(len(aliens)))"
   ]
  },
  {
   "cell_type": "markdown",
   "metadata": {},
   "source": [
    "### 6.4.2 在字典中存储列表"
   ]
  },
  {
   "cell_type": "code",
   "execution_count": 32,
   "metadata": {},
   "outputs": [
    {
     "name": "stdout",
     "output_type": "stream",
     "text": [
      "You ordered a thick-crust pizza with the following toppings:\n",
      "\tmushrooms\n",
      "\textra cheese\n"
     ]
    }
   ],
   "source": [
    " pizza = { \n",
    "    'crust': 'thick',    \n",
    "    'toppings': ['mushrooms', 'extra cheese'],    \n",
    "     } \n",
    "# 概述所点的比萨 \n",
    "print(\"You ordered a \" + pizza['crust'] + \"-crust pizza \" +     \"with the following toppings:\") \n",
    " for topping in pizza['toppings']:    \n",
    "    print(\"\\t\" + topping) "
   ]
  },
  {
   "cell_type": "markdown",
   "metadata": {},
   "source": [
    "### 6.4.3在字典中存储字典"
   ]
  },
  {
   "cell_type": "code",
   "execution_count": 33,
   "metadata": {},
   "outputs": [
    {
     "name": "stdout",
     "output_type": "stream",
     "text": [
      "\n",
      "Username: aeinstein\n",
      "\tFull name: Albert Einstein\n",
      "\tLocation: Princeton\n",
      "\n",
      "Username: mcurie\n",
      "\tFull name: Marie Curie\n",
      "\tLocation: Paris\n"
     ]
    }
   ],
   "source": [
    "users = {     \n",
    "    'aeinstein': {         \n",
    "        'first': 'albert',         \n",
    "        'last': 'einstein',        \n",
    "        'location': 'princeton',        \n",
    "        }, \n",
    " \n",
    "    'mcurie': {         \n",
    "        'first': 'marie',         \n",
    "        'last': 'curie',         \n",
    "        'location': 'paris',         \n",
    "        }, \n",
    "    } \n",
    " \n",
    "for username, user_info in users.items(): \n",
    "    print(\"\\nUsername: \" + username) \n",
    "    full_name = user_info['first'] + \" \" + user_info['last']     \n",
    "    location = user_info['location'] \n",
    " \n",
    "    print(\"\\tFull name: \" + full_name.title())     \n",
    "    print(\"\\tLocation: \" + location.title()) "
   ]
  },
  {
   "cell_type": "code",
   "execution_count": null,
   "metadata": {},
   "outputs": [],
   "source": []
  }
 ],
 "metadata": {
  "kernelspec": {
   "display_name": "Python 3",
   "language": "python",
   "name": "python3"
  },
  "language_info": {
   "codemirror_mode": {
    "name": "ipython",
    "version": 3
   },
   "file_extension": ".py",
   "mimetype": "text/x-python",
   "name": "python",
   "nbconvert_exporter": "python",
   "pygments_lexer": "ipython3",
   "version": "3.7.4"
  }
 },
 "nbformat": 4,
 "nbformat_minor": 2
}
