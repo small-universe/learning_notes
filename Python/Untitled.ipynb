{
 "cells": [
  {
   "cell_type": "markdown",
   "metadata": {},
   "source": [
    "# opencv 模块讲解："
   ]
  },
  {
   "cell_type": "markdown",
   "metadata": {},
   "source": [
    "打开OpenCV 4.1的文件夹，在“...\\opencv\\build\\include”文件夹中只有一个名为opencv2的文件夹。这里需要再次重点说明，在OpenCV 4之前的版本中，该文件夹下有opencv和opencv2两个文件夹，而在OpenCV 4中将两者整合成opencv2一个文件夹。打开opencv2文件夹就可以看到OpenCV 4.1的模块架构"
   ]
  },
  {
   "cell_type": "markdown",
   "metadata": {},
   "source": [
    "【calib3d】——这个模块名称是由calibration（校准）和3D这两个单词的缩写组合而成，通过名字我们可以知道，模块主要包含相机标定与立体视觉等功能，例如物体位姿估计、三维重建、摄像头标定等。\n",
    "\n",
    "【core】——核心功能模块，模块主要包含 OpenCV 库的基础结构以及基本操作，例如OpenCV基本数据结构、绘图函数、数组操作相关函数、动态数据结构等。\n",
    "\n",
    "【dnn】——深度学习模块，这个模块是OpenCV 4版本的一个特色，其主要包括构建神经网络、加载序列化网络模型等。但是该模块目前仅适用于正向传递计算（测试网络），原则上不支持反向计算（训练网络）。\n",
    "\n",
    "【features2d】——这个模块名称是由features（特征）和2D这两个单词的缩写组合而成，其功能主要为处理图像特征点，例如特征检测、描述与匹配等。\n",
    "\n",
    "【flann】——这个模块名称是Fast Library for Approximate Nearest Neighbors（快速近似最近邻库）的缩写，这个模块是高维的近似近邻快速搜索算法库，主要包含快速近似最近邻搜索与聚类等。\n",
    "\n",
    "【gapi】——这个模块是OpenCV 4.0中新增加的模块，旨在加速常规的图像处理，与其他模块相比，这个模块主要充当框架而不是某些特定的计算机视觉算法。\n",
    "\n",
    "【highgui】——高层GUI图形用户界面，包含创建和操作显示图像的窗口、处理鼠标事件以及键盘命令、提供图形交互可视化界面等。\n",
    "\n",
    "【imgcodecs】——图像文件读取与保存模块，主要用于图像文件读取与保存。\n",
    "\n",
    "【imgproc】——这个模块名称是由image（图像）和process（处理）两个单词的缩写组和而成，是重要的图像处理模块，其主要包括图像滤波、几何变换、直方图、特征检测与目标检测等。\n",
    "\n",
    "【ml】——机器学习模块，主要为统计分类、回归和数据聚类等。\n",
    "\n",
    "【objdetect】——目标检测模块，主要用于图像目标检测，例如检测Haar特征。\n",
    "\n",
    "【photo】——计算摄影模块，主要包含图像修复和去噪等。\n",
    "\n",
    "【stitching】——图像拼接模块，主要包含特征点寻找与匹配图像、估计旋转、自动校准、接缝估计等图像拼接过程的相关内容。\n",
    "\n",
    "【video】——视频分析模块，主要包含运动估计、背景分离、对象跟踪等视频处理相关内容。\n",
    "\n",
    "【videoio】——视频输入输出模块，主要用于读取与写入视频或者图像序列。\n",
    "\n",
    "通过对OpenCV 4.1的模块构架的介绍，相信读者已经对OpenCV 4.1整体架构有了一定的了解。其实简单来说OpenCV就是将众多图像处理模块集成在一起的软件开发包（Software Development Kit，SDK），其自身并不复杂，只要通过学习都可以轻松掌握其使用方式。"
   ]
  },
  {
   "cell_type": "markdown",
   "metadata": {},
   "source": [
    "1.像素：图像分割出来的小方块\n",
    "2.RGB (三色素)\n",
    "3.颜色深度8bit 0-255 \n",
    "4.像素点：w h 640*480\n",
    "5.1.14M = 720*574*3*8 bit/8 (B) = 1.14M\n",
    "6.RGB alpha 描述透明度分量\n",
    "7.RGB bgr\n",
    "8.bgr b g r"
   ]
  },
  {
   "cell_type": "code",
   "execution_count": null,
   "metadata": {},
   "outputs": [],
   "source": []
  }
 ],
 "metadata": {
  "kernelspec": {
   "display_name": "Python 3",
   "language": "python",
   "name": "python3"
  },
  "language_info": {
   "codemirror_mode": {
    "name": "ipython",
    "version": 3
   },
   "file_extension": ".py",
   "mimetype": "text/x-python",
   "name": "python",
   "nbconvert_exporter": "python",
   "pygments_lexer": "ipython3",
   "version": "3.7.4"
  }
 },
 "nbformat": 4,
 "nbformat_minor": 2
}
