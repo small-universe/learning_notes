{
 "cells": [
  {
   "cell_type": "markdown",
   "metadata": {},
   "source": [
    "# 9.1 创建和使用类"
   ]
  },
  {
   "cell_type": "code",
   "execution_count": 12,
   "metadata": {},
   "outputs": [
    {
     "name": "stdout",
     "output_type": "stream",
     "text": [
      "My dog's name is Willie.\n",
      "My dog is 6 years old.\n"
     ]
    }
   ],
   "source": [
    "#创建一个表示小狗的类Dog\n",
    "#包含名字和年龄+蹲下和打滚\n",
    "#使用类去创建表示特定小狗的实例\n",
    "#创建Dog实例时，通过实参向Dog()传递名字和年龄，self会自动传递\n",
    "class Dog():\n",
    "    #以下属于方法：\n",
    "    \"\"\"一次模拟小狗的简单尝试\"\"\"\n",
    "    def __init__(self,name,age):\n",
    "        \"\"\"初始化属性name和age\"\"\"\n",
    "        #，每当根据Dog类创建新实例时，Python都会自动运行_init_方法\n",
    "        self.name = name\n",
    "        self.age = age\n",
    "        #以self为前缀的变量都可供类中的所有方法使用\n",
    "        #获取存储在形参name中的值，并将其存储到变量name中，\n",
    "        #5然后该变量被关联到当前创建的实例\n",
    "    def sit(self):\n",
    "        \"\"\"模拟小狗被命令时蹲下\"\"\"\n",
    "        print(self.name.title()+\"is now setting.\")\n",
    "    def roll_over(self):\n",
    "        \"\"\"模拟小狗被命令时打滚\"\"\"\n",
    "        print(self.name.title()+\" rolled over!\")\n",
    "my_dog = Dog('willie',6)  \n",
    "print(\"My dog's name is \" + my_dog.name.title() + \".\") \n",
    "print(\"My dog is \" + str(my_dog.age) + \" years old.\")"
   ]
  },
  {
   "cell_type": "markdown",
   "metadata": {},
   "source": [
    "## 9.1.1 创建Dog类"
   ]
  },
  {
   "cell_type": "markdown",
   "metadata": {},
   "source": [
    "## 9.1.2 根据类创建实例"
   ]
  },
  {
   "cell_type": "markdown",
   "metadata": {},
   "source": [
    "1.访问属性：\n"
   ]
  },
  {
   "cell_type": "code",
   "execution_count": 8,
   "metadata": {},
   "outputs": [
    {
     "data": {
      "text/plain": [
       "'willie'"
      ]
     },
     "execution_count": 8,
     "metadata": {},
     "output_type": "execute_result"
    }
   ],
   "source": [
    "my_dog.name "
   ]
  },
  {
   "cell_type": "code",
   "execution_count": 9,
   "metadata": {},
   "outputs": [
    {
     "data": {
      "text/plain": [
       "6"
      ]
     },
     "execution_count": 9,
     "metadata": {},
     "output_type": "execute_result"
    }
   ],
   "source": [
    "my_dog.age"
   ]
  },
  {
   "cell_type": "markdown",
   "metadata": {},
   "source": [
    "2.调用方法：\n"
   ]
  },
  {
   "cell_type": "code",
   "execution_count": 10,
   "metadata": {},
   "outputs": [
    {
     "name": "stdout",
     "output_type": "stream",
     "text": [
      "Willieis now setting.\n"
     ]
    }
   ],
   "source": [
    "my_dog.sit()"
   ]
  },
  {
   "cell_type": "code",
   "execution_count": 13,
   "metadata": {},
   "outputs": [
    {
     "name": "stdout",
     "output_type": "stream",
     "text": [
      "Willie rolled over!\n"
     ]
    }
   ],
   "source": [
    "my_dog.roll_over()"
   ]
  },
  {
   "cell_type": "markdown",
   "metadata": {},
   "source": [
    "3.创建多个实例：\n"
   ]
  },
  {
   "cell_type": "code",
   "execution_count": 16,
   "metadata": {},
   "outputs": [
    {
     "name": "stdout",
     "output_type": "stream",
     "text": [
      "My dog's name is Willie.\n",
      "My dog is 6 years old.\n",
      "Willieis now setting.\n",
      "\n",
      "Your dog's name is Lucy.\n",
      "Your dog is 3 years old.\n",
      "Lucyis now setting.\n"
     ]
    }
   ],
   "source": [
    "my_dog = Dog('willie', 6) \n",
    "your_dog = Dog('lucy', 3) \n",
    " \n",
    "print(\"My dog's name is \" + my_dog.name.title() + \".\")\n",
    "print(\"My dog is \" + str(my_dog.age) + \" years old.\")\n",
    "my_dog.sit() \n",
    " \n",
    "print(\"\\nYour dog's name is \" + your_dog.name.title() + \".\") \n",
    "print(\"Your dog is \" + str(your_dog.age) + \" years old.\") \n",
    "your_dog.sit() "
   ]
  },
  {
   "cell_type": "markdown",
   "metadata": {},
   "source": [
    "# 9.2 使用类和实例"
   ]
  },
  {
   "cell_type": "code",
   "execution_count": 20,
   "metadata": {},
   "outputs": [
    {
     "name": "stdout",
     "output_type": "stream",
     "text": [
      "2016 Audi A4\n"
     ]
    }
   ],
   "source": [
    "#创建一个表示汽车的类，存储有关汽车的信息，还有一个汇总这些信息的方法-get_descriptive_name\n",
    "\n",
    "class Car():     \n",
    "    \"\"\"一次模拟汽车的简单尝试\"\"\" \n",
    "    def __init__(self, make, model, year):         \n",
    "        \"\"\"初始化描述汽车的属性\"\"\"         \n",
    "        self.make = make         \n",
    "        self.model = model         \n",
    "        self.year = year          \n",
    "    def get_descriptive_name(self):         \n",
    "        \"\"\"返回整洁的描述性信息\"\"\"         \n",
    "        long_name = str(self.year) + ' ' + self.make + ' ' + self.model         \n",
    "        return long_name.title()      \n",
    "my_new_car = Car('audi', 'a4', 2016) \n",
    "print(my_new_car.get_descriptive_name()) "
   ]
  },
  {
   "cell_type": "markdown",
   "metadata": {},
   "source": [
    "## 9.2.2 给属性指定默认值"
   ]
  },
  {
   "cell_type": "code",
   "execution_count": 26,
   "metadata": {},
   "outputs": [
    {
     "name": "stdout",
     "output_type": "stream",
     "text": [
      "2016 Audi A4\n",
      "This car has 0 miles on it.\n"
     ]
    }
   ],
   "source": [
    "class Car():     \n",
    "    \"\"\"一次模拟汽车的简单尝试\"\"\" \n",
    "    def __init__(self, make, model, year):         \n",
    "        \"\"\"初始化描述汽车的属性\"\"\"         \n",
    "        self.make = make         \n",
    "        self.model = model         \n",
    "        self.year = year \n",
    "        self.odometer_reading = 0\n",
    "    def get_descriptive_name(self):         \n",
    "        \"\"\"返回整洁的描述性信息\"\"\"         \n",
    "        long_name = str(self.year) + ' ' + self.make + ' ' + self.model         \n",
    "        return long_name.title()\n",
    "    def read_odometer(self):         \n",
    "        \"\"\"打印一条指出汽车里程的消息\"\"\"         \n",
    "        print(\"This car has \" + str(self.odometer_reading) + \" miles on it.\")\n",
    "    def update_odometer(self, mileage):        \n",
    "        \"\"\"将里程表读数设置为指定的值\"\"\" \n",
    "        \"\"\"将里程表读数设置为指定的值         \n",
    "           禁止将里程表读数往回调 \"\"\"\n",
    "        if mileage >= self.odometer_reading:             \n",
    "                self.odometer_reading = mileage         \n",
    "        else:            \n",
    "            print(\"You can't roll back an odometer!\") \n",
    "        self.odometer_reading = mileage \n",
    "my_new_car = Car('audi', 'a4', 2016) \n",
    "print(my_new_car.get_descriptive_name()) \n",
    "my_new_car.read_odometer()"
   ]
  },
  {
   "cell_type": "markdown",
   "metadata": {},
   "source": [
    "## 9.2.3 修改属性的值"
   ]
  },
  {
   "cell_type": "markdown",
   "metadata": {},
   "source": [
    "1. 直接修改属性的值"
   ]
  },
  {
   "cell_type": "code",
   "execution_count": 22,
   "metadata": {},
   "outputs": [
    {
     "name": "stdout",
     "output_type": "stream",
     "text": [
      "This car has 23 miles on it.\n"
     ]
    }
   ],
   "source": [
    "my_new_car.odometer_reading = 23\n",
    "my_new_car.read_odometer() "
   ]
  },
  {
   "cell_type": "markdown",
   "metadata": {},
   "source": [
    "2. 通过方法修改属性的值 "
   ]
  },
  {
   "cell_type": "code",
   "execution_count": 27,
   "metadata": {},
   "outputs": [
    {
     "name": "stdout",
     "output_type": "stream",
     "text": [
      "This car has 23 miles on it.\n"
     ]
    }
   ],
   "source": [
    "my_new_car.update_odometer(23) \n",
    "my_new_car.read_odometer()"
   ]
  },
  {
   "cell_type": "markdown",
   "metadata": {},
   "source": [
    "3. 通过方法对属性的值进行递增"
   ]
  },
  {
   "cell_type": "code",
   "execution_count": 28,
   "metadata": {},
   "outputs": [
    {
     "name": "stdout",
     "output_type": "stream",
     "text": [
      "2013 Subaru Outback\n",
      "This car has 23500 miles on it.\n",
      "This car has 23600 miles on it.\n"
     ]
    }
   ],
   "source": [
    "class Car():     \n",
    "    \"\"\"一次模拟汽车的简单尝试\"\"\" \n",
    "    def __init__(self, make, model, year):         \n",
    "        \"\"\"初始化描述汽车的属性\"\"\"         \n",
    "        self.make = make         \n",
    "        self.model = model         \n",
    "        self.year = year \n",
    "        self.odometer_reading = 0\n",
    "    def increment_odometer(self, miles):        \n",
    "        \"\"\"将里程表读数增加指定的量\"\"\"         \n",
    "        self.odometer_reading += miles\n",
    "    def get_descriptive_name(self):         \n",
    "        \"\"\"返回整洁的描述性信息\"\"\"         \n",
    "        long_name = str(self.year) + ' ' + self.make + ' ' + self.model         \n",
    "        return long_name.title()\n",
    "    def read_odometer(self):         \n",
    "        \"\"\"打印一条指出汽车里程的消息\"\"\"         \n",
    "        print(\"This car has \" + str(self.odometer_reading) + \" miles on it.\")\n",
    "    def update_odometer(self, mileage):        \n",
    "        \"\"\"将里程表读数设置为指定的值\"\"\" \n",
    "        \"\"\"将里程表读数设置为指定的值         \n",
    "           禁止将里程表读数往回调 \"\"\"\n",
    "        if mileage >= self.odometer_reading:             \n",
    "                self.odometer_reading = mileage         \n",
    "        else:            \n",
    "            print(\"You can't roll back an odometer!\") \n",
    "        self.odometer_reading = mileage \n",
    "        \n",
    "my_used_car = Car('subaru', 'outback', 2013)\n",
    "print(my_used_car.get_descriptive_name())\n",
    "\n",
    "my_used_car.update_odometer(23500) \n",
    "my_used_car.read_odometer()\n",
    "\n",
    "my_used_car.increment_odometer(100)\n",
    "my_used_car.read_odometer() "
   ]
  },
  {
   "cell_type": "markdown",
   "metadata": {},
   "source": [
    "# 9.3 继承"
   ]
  },
  {
   "cell_type": "markdown",
   "metadata": {},
   "source": [
    "## 9.3.1 子类的方法__init__()调用父类的__init__()\n"
   ]
  },
  {
   "cell_type": "code",
   "execution_count": 33,
   "metadata": {},
   "outputs": [
    {
     "name": "stdout",
     "output_type": "stream",
     "text": [
      "2016 Tesla Model S\n"
     ]
    }
   ],
   "source": [
    "class ElectricCar(Car):     \n",
    "    \"\"\"电动汽车的独特之处\"\"\"      \n",
    "    def __init__(self, make, model, year):         \n",
    "        \"\"\"初始化父类的属性\"\"\" \n",
    "        super().__init__(make, model, year)          \n",
    " \n",
    "my_tesla = ElectricCar('tesla', 'model s', 2016) \n",
    "print(my_tesla.get_descriptive_name()) "
   ]
  },
  {
   "cell_type": "markdown",
   "metadata": {},
   "source": [
    "## 9.3.2 在python2.7中继承稍有不同"
   ]
  },
  {
   "cell_type": "code",
   "execution_count": null,
   "metadata": {},
   "outputs": [],
   "source": [
    "class Car(object):     \n",
    "    def __init__(self, make, model, year):       \n",
    "        -snip -- \n",
    "class ElectricCar(Car):     \n",
    "    def __init__(self, make, model, year):         \n",
    "        super(ElectricCar, self).__init__(make, model, year)         \n",
    "        -snip "
   ]
  },
  {
   "cell_type": "markdown",
   "metadata": {},
   "source": [
    "## 9.3.3 给子类定义属性和方法"
   ]
  },
  {
   "cell_type": "markdown",
   "metadata": {},
   "source": [
    "在__init__()方法中添加属性\n",
    "在类中自己定义自己的方法"
   ]
  },
  {
   "cell_type": "markdown",
   "metadata": {},
   "source": [
    "## 9.3.4 重写父类的方法"
   ]
  },
  {
   "cell_type": "markdown",
   "metadata": {},
   "source": [
    "只需要在子类中定义一个跟父类相同的方法即可"
   ]
  },
  {
   "cell_type": "markdown",
   "metadata": {},
   "source": [
    "## 9.3.5 将实例用作属性"
   ]
  },
  {
   "cell_type": "markdown",
   "metadata": {},
   "source": [
    "可以将大型类拆分成多个协同工作的小类。\n",
    "一个类作为另一个类的属性时这样写在__init__()中：self.battery = Battery()"
   ]
  },
  {
   "cell_type": "markdown",
   "metadata": {},
   "source": [
    "## 9.3.6 模拟实物"
   ]
  },
  {
   "cell_type": "markdown",
   "metadata": {},
   "source": [
    "# 9.4 导入类"
   ]
  },
  {
   "cell_type": "markdown",
   "metadata": {},
   "source": [
    "Python允许将类存储在模块中，然后在主程序中导入所需的模块。 "
   ]
  },
  {
   "cell_type": "markdown",
   "metadata": {},
   "source": [
    "## 9.4.1 导入单个类"
   ]
  },
  {
   "cell_type": "code",
   "execution_count": null,
   "metadata": {},
   "outputs": [],
   "source": [
    "from car import Car #从car.py文件中导入Car类\n",
    "from car import ElectricCar #从car.py文件中导入ElectricCar类"
   ]
  },
  {
   "cell_type": "markdown",
   "metadata": {},
   "source": [
    "## 9.4.3 从一个模块中导入多个类"
   ]
  },
  {
   "cell_type": "code",
   "execution_count": null,
   "metadata": {},
   "outputs": [],
   "source": [
    "from car import Car, ElectricCa"
   ]
  },
  {
   "cell_type": "markdown",
   "metadata": {},
   "source": [
    "## 9.4.4 导入整个模块"
   ]
  },
  {
   "cell_type": "code",
   "execution_count": null,
   "metadata": {},
   "outputs": [],
   "source": [
    "import car"
   ]
  },
  {
   "cell_type": "markdown",
   "metadata": {},
   "source": [
    "## 9.4.5 导入模块中的所有类"
   ]
  },
  {
   "cell_type": "code",
   "execution_count": null,
   "metadata": {},
   "outputs": [],
   "source": [
    "from module_name import*"
   ]
  },
  {
   "cell_type": "markdown",
   "metadata": {},
   "source": [
    "## 9.4.6 在一个模块中导入另外一个模块"
   ]
  },
  {
   "cell_type": "markdown",
   "metadata": {},
   "source": [
    "在组织大型项目的代码方面，Python提供了很多选项。熟悉所有这些选项很 重要，这样才能确定哪种项目组织方式是佳的，并能理解别人开发的项目。 一开始应让代码结构尽可能简单。先尽可能在一个文件中完成所有的工作，确定一切都能正确运行后，再将类移到独立的模块中。如果你喜欢模块和文件的交互方式，可在项目开始时就尝 试将类存储到模块中。先找出让你能够编写出可行代码的方式，再尝试让代码更为组织有序。 "
   ]
  },
  {
   "cell_type": "markdown",
   "metadata": {},
   "source": [
    "# 9.5 Python 标准库"
   ]
  },
  {
   "cell_type": "markdown",
   "metadata": {},
   "source": [
    "1.要创建字典并记录其 中的键—值对的添加顺序，可使用模块collections中的OrderedDict类。"
   ]
  }
 ],
 "metadata": {
  "kernelspec": {
   "display_name": "Python 3",
   "language": "python",
   "name": "python3"
  },
  "language_info": {
   "codemirror_mode": {
    "name": "ipython",
    "version": 3
   },
   "file_extension": ".py",
   "mimetype": "text/x-python",
   "name": "python",
   "nbconvert_exporter": "python",
   "pygments_lexer": "ipython3",
   "version": "3.7.4"
  }
 },
 "nbformat": 4,
 "nbformat_minor": 2
}
