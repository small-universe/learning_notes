{
 "cells": [
  {
   "cell_type": "markdown",
   "metadata": {},
   "source": [
    "# 10. 1 文件"
   ]
  },
  {
   "cell_type": "markdown",
   "metadata": {},
   "source": [
    "参数open(\"路径\",\"mode\")\n",
    "mode:\n",
    "    \"r\": 只读\n",
    "    \"w\":  只写\n",
    "    \"a\":  附加到文件末尾\n",
    "    \"r+\": 读写\n",
    "    \"rb\" \"wb\": 以二进制的方式打开文件\n",
    "函数：\n",
    "f.read(size):size是读取内容的数量，可以缺省（读整个文件）\n",
    "f.readline():读取文件一行的内容\n",
    "f.readlines():读取所有的行到一个数组中 lines = f.readlines()\n"
   ]
  },
  {
   "cell_type": "markdown",
   "metadata": {},
   "source": [
    "1.使用函数open()打开文件，要注意open函数中的参数问题"
   ]
  },
  {
   "cell_type": "code",
   "execution_count": null,
   "metadata": {},
   "outputs": [],
   "source": [
    "#函数open（参数:要打开的文件名称）\n",
    "#关键字with.不需要访问文件后可以将其关闭\n",
    "#方法read（）.读取文件的全部内容\n",
    "with open('pi_digits.txt') as file_object:\n",
    "    contents = file_object.read()\n",
    "    print(contents.rstrip())"
   ]
  },
  {
   "cell_type": "markdown",
   "metadata": {},
   "source": [
    "2.打开相对路径的文件："
   ]
  },
  {
   "cell_type": "code",
   "execution_count": null,
   "metadata": {},
   "outputs": [],
   "source": [
    "print('相对路径要注意参数问题(两文件所在文件夹同级目录下，此时可以先返回上一级)')\n",
    "with open(r'..\\text_files\\a.txt','r') as file_object_2:\n",
    "    contents = file_object_2.read()\n",
    "    print(contents)\n",
    "\n",
    "print('相对路径要注意参数问题(要打开的文件所在文件夹与此py文件在同级目录下)')\n",
    "with open(r'text_files/b.txt','r') as file_object:\n",
    "    contents = file_object.read()\n",
    "    print(contents)"
   ]
  },
  {
   "cell_type": "markdown",
   "metadata": {},
   "source": [
    "3.绝对路径问题"
   ]
  },
  {
   "cell_type": "code",
   "execution_count": null,
   "metadata": {},
   "outputs": [],
   "source": [
    "#※※绝对路径要注意参数问题,windows中路径是用'/',如果路径中是'\\',前面必须加上 r\n",
    "with open('Z:/PythonProject/python_work/10/text_files/b.txt') as file_object_2:\n",
    "    contents = file_object_2.read()\n",
    "    print(contents)\n",
    "\n",
    "print(\"示例1：\\n\")\n",
    "file_path = 'Z:/PythonProject/python_work/10/text_files/b.txt'\n",
    "with open(file_path) as file_object_2:\n",
    "    lines = file_object_2.readlines()\n",
    "for line in lines:\n",
    "    print(line.rstrip())#文件每读取一行后都会有空格加上rstrip()去除空格\n",
    "\n",
    "print(\"示例2：\\n\")\n",
    "file_path = 'Z:/PythonProject/python_work/10/text_files/b.txt'\n",
    "with open(file_path) as file_object_2:\n",
    "    for line in file_object_2:\n",
    "        print(line.rstrip())\n",
    "\n",
    "print(\"示例3：\")\n",
    "file_path = 'Z:/PythonProject/python_work/10/pi_digits.txt'\n",
    "with open(file_path) as file_object:\n",
    "    lines = file_object.readlines()\n",
    "pi_string = ''\n",
    "for line in lines:\n",
    "    pi_string += line.rstrip()#去除换行\n",
    "print(pi_string)\n",
    "print(len(pi_string))\n",
    "\n",
    "pi_string = ''\n",
    "for line in lines:\n",
    "    pi_string += line.strip() #去除换行后的空格\n",
    "print(pi_string)"
   ]
  },
  {
   "cell_type": "markdown",
   "metadata": {},
   "source": [
    "# 10.2 写入文件"
   ]
  },
  {
   "cell_type": "code",
   "execution_count": 3,
   "metadata": {},
   "outputs": [
    {
     "name": "stdout",
     "output_type": "stream",
     "text": [
      "Input your name:Eric\n"
     ]
    }
   ],
   "source": [
    "#使用参数'w' 将原文件内容覆盖  使用参数'a'在文件末尾添加内容\n",
    "file_name = 'Z:/PythonProject/python_work/10/programming.txt'\n",
    "\n",
    "input_str = input(\"Input your name:\")\n",
    "with open(file_name,'w') as file_object:\n",
    "    file_object.write(\"I also love finding meaning in large datasets.\\n\")\n",
    "    file_object.write(\"I love creating apps that can run in a brower.\\n\")\n",
    "    file_object.write(input_str)"
   ]
  },
  {
   "cell_type": "code",
   "execution_count": 6,
   "metadata": {},
   "outputs": [
    {
     "name": "stdout",
     "output_type": "stream",
     "text": [
      "Enter your birthday, in the form mmddyy: 0216\n",
      "Your birthday appears in the string!\n"
     ]
    }
   ],
   "source": [
    "#检查数字字符串中是否有你生日\n",
    "string = \"1234560216\"\n",
    "birthday = input(\"Enter your birthday, in the form mmddyy: \") \n",
    "if birthday in string:     \n",
    "    print(\"Your birthday appears in the string!\") \n",
    "else:     \n",
    "    print(\"Your birthday does not appear in the string.\")"
   ]
  },
  {
   "cell_type": "markdown",
   "metadata": {},
   "source": [
    "# 10.3 异常"
   ]
  },
  {
   "cell_type": "markdown",
   "metadata": {},
   "source": [
    "## 10.3.1 处理ZeroDivisionError异常"
   ]
  },
  {
   "cell_type": "code",
   "execution_count": 7,
   "metadata": {},
   "outputs": [
    {
     "name": "stdout",
     "output_type": "stream",
     "text": [
      "You can't divide by zero!\n"
     ]
    }
   ],
   "source": [
    "#使用try-except代码块\n",
    "try:\n",
    "    print(5/0)\n",
    "except ZeroDivisionError:\n",
    "    print(\"You can't divide by zero!\")"
   ]
  },
  {
   "cell_type": "markdown",
   "metadata": {},
   "source": [
    "## 10.3.3使用异常避免崩溃"
   ]
  },
  {
   "cell_type": "code",
   "execution_count": 9,
   "metadata": {},
   "outputs": [
    {
     "name": "stdout",
     "output_type": "stream",
     "text": [
      "Give me two numbers, and I'll divide them.\n",
      "Enter 'q' to quit.\n",
      "\n",
      "First number: 2\n",
      "Second number: 0\n",
      "You can't divide by zero!\n",
      "\n",
      "First number: 5\n",
      "Second number: 2\n",
      "2.5\n",
      "\n",
      "First number: q\n"
     ]
    }
   ],
   "source": [
    "print(\"Give me two numbers, and I'll divide them.\") \n",
    "print(\"Enter 'q' to quit.\") \n",
    " \n",
    "while True: \n",
    "    first_number = input(\"\\nFirst number: \")     \n",
    "    if first_number == 'q':         \n",
    "        break \n",
    "    second_number = input(\"Second number: \")    \n",
    "    if second_number == 'q':         \n",
    "            break \n",
    "    try:\n",
    "        answer = int(first_number) / int(second_number)  \n",
    "    except ZeroDivisionError:\n",
    "        print(\"You can't divide by zero!\")\n",
    "    else:\n",
    "        print(answer) \n",
    " "
   ]
  },
  {
   "cell_type": "markdown",
   "metadata": {},
   "source": [
    "## 10.3.5 FileNotFoundError"
   ]
  },
  {
   "cell_type": "code",
   "execution_count": 10,
   "metadata": {},
   "outputs": [
    {
     "name": "stdout",
     "output_type": "stream",
     "text": [
      "Sorry, the file alice.txt does not exist.\n"
     ]
    }
   ],
   "source": [
    "filename = 'alice.txt' \n",
    " \n",
    "try:     \n",
    "    with open(filename) as f_obj:         \n",
    "        contents = f_obj.read() \n",
    "except FileNotFoundError:     \n",
    "    msg = \"Sorry, the file \" + filename + \" does not exist.\"     \n",
    "    print(msg) \n",
    " "
   ]
  },
  {
   "cell_type": "markdown",
   "metadata": {},
   "source": [
    "## 10.3.6 分析文本"
   ]
  },
  {
   "cell_type": "markdown",
   "metadata": {},
   "source": [
    "计算文本中包含多少个单词。我们将使用方法split()，它根据一个字符串创建一个单词列表\n",
    "命令行中输入和输出结果样例：\n",
    ">>> title = \"Alice in Wonderland\"  \n",
    ">>> title.split()  \n",
    "['Alice', 'in', 'Wonderland']"
   ]
  },
  {
   "cell_type": "code",
   "execution_count": null,
   "metadata": {},
   "outputs": [],
   "source": [
    "#为计算Alice in Wonderland包含多少个单词，将对整本小说使用split()方法\n",
    "filename = 'alice.txt' \n",
    " \n",
    "try:     \n",
    "    with open(filename) as f_obj:         \n",
    "        contents = f_obj.read() \n",
    "except FileNotFoundError:\n",
    "    msg = \"Sorry, the file \" + filename + \" does not exist.\" \n",
    "    print(msg)\n",
    "else:    \n",
    "    # 计算文件大致包含多少个单词 \n",
    "    words = contents.split() \n",
    "    num_words = len(words)   \n",
    "    print(\"The file \" + filename + \" has about \" + str(num_words) + \" words.\") "
   ]
  },
  {
   "cell_type": "code",
   "execution_count": 11,
   "metadata": {},
   "outputs": [
    {
     "ename": "IndentationError",
     "evalue": "expected an indented block (<ipython-input-11-8fa13fd52722>, line 5)",
     "output_type": "error",
     "traceback": [
      "\u001b[1;36m  File \u001b[1;32m\"<ipython-input-11-8fa13fd52722>\"\u001b[1;36m, line \u001b[1;32m5\u001b[0m\n\u001b[1;33m    contents = f_obj.read()\u001b[0m\n\u001b[1;37m           ^\u001b[0m\n\u001b[1;31mIndentationError\u001b[0m\u001b[1;31m:\u001b[0m expected an indented block\n"
     ]
    }
   ],
   "source": [
    "filename = 'alice.txt' \n",
    " \n",
    "try:     \n",
    "    with open(filename) as f_obj:        \n",
    "    contents = f_obj.read() \n",
    "except FileNotFoundError:\n",
    "    msg = \"Sorry, the file \" + filename + \" does not exist.\"     \n",
    "    print(msg)\n",
    "else:    \n",
    "    # 计算文件大致包含多少个单词     \n",
    "    words = contents.split()     \n",
    "    num_words = len(words)  \n",
    "    print(\"The file \" + filename + \" has about \" + str(num_words) + \" words.\") "
   ]
  },
  {
   "cell_type": "markdown",
   "metadata": {},
   "source": [
    "## 10.3.7 使用多个文本"
   ]
  },
  {
   "cell_type": "code",
   "execution_count": null,
   "metadata": {},
   "outputs": [],
   "source": [
    "#将上述代码写成一个函数的形式\n",
    "def count_words(filename):\n",
    "    try:     \n",
    "        with open(filename) as f_obj:        \n",
    "        contents = f_obj.read() \n",
    "    except FileNotFoundError:\n",
    "        msg = \"Sorry, the file \" + filename + \" does not exist.\"     \n",
    "        print(msg)\n",
    "    else:    \n",
    "        # 计算文件大致包含多少个单词     \n",
    "        words = contents.split()     \n",
    "        num_words = len(words)  \n",
    "        print(\"The file \" + filename + \" has about \" + str(num_words) + \" words.\")\n",
    "\n",
    "filename = 'alice.txt' \n",
    "count_words(filename)\n",
    "\n",
    "#多个文本调用函数即可\n",
    "filenames = ['alice.txt', 'siddhartha.txt', 'moby_dick.txt', 'little_women.txt'] \n",
    "for filename in filenames:     \n",
    "    count_words(filename) "
   ]
  },
  {
   "cell_type": "markdown",
   "metadata": {},
   "source": [
    "## 10.4 用json模块来存储数据"
   ]
  },
  {
   "cell_type": "code",
   "execution_count": 12,
   "metadata": {},
   "outputs": [],
   "source": [
    "# 编写一个存储一组数字的简短程序\n",
    "import json \n",
    " \n",
    "numbers = [2, 3, 5, 7, 11, 13] \n",
    "filename = 'numbers.json' \n",
    "with open(filename, 'w') as f_obj: \n",
    "    json.dump(numbers, f_obj) \n",
    " #再编写一个将这些数字读取到内存中的程序\n",
    "filename = 'numbers.json'\n",
    "with open(filename) as f_obj:\n",
    "    numbers = json.load(f_obj)\n",
    "print(numbers)"
   ]
  },
  {
   "cell_type": "markdown",
   "metadata": {},
   "source": [
    "## 10.4.3 代码重构\n"
   ]
  },
  {
   "cell_type": "code",
   "execution_count": null,
   "metadata": {},
   "outputs": [],
   "source": [
    "将能够运行的代码整理放到函数中供用户调用"
   ]
  }
 ],
 "metadata": {
  "kernelspec": {
   "display_name": "Python 3",
   "language": "python",
   "name": "python3"
  },
  "language_info": {
   "codemirror_mode": {
    "name": "ipython",
    "version": 3
   },
   "file_extension": ".py",
   "mimetype": "text/x-python",
   "name": "python",
   "nbconvert_exporter": "python",
   "pygments_lexer": "ipython3",
   "version": "3.7.4"
  }
 },
 "nbformat": 4,
 "nbformat_minor": 2
}
