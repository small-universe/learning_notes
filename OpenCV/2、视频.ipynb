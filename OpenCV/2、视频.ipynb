{
 "cells": [
  {
   "cell_type": "markdown",
   "metadata": {},
   "source": [
    "# 视频"
   ]
  },
  {
   "cell_type": "markdown",
   "metadata": {},
   "source": [
    "## 目标\n",
    "- 学会读取视频文件，显示视频，保存视频文件\n",
    "- 学会从摄像头获取并显示视频\n",
    "- 你将会学习到这些函数：cv2.VideoCapture()，cv2.VideoWrite()"
   ]
  },
  {
   "cell_type": "markdown",
   "metadata": {},
   "source": [
    "### 2.1用摄像头捕获视频\n",
    "- 我们经常需要使用摄像头捕获实时图像。OpenCV为这种应用提供了一个非常简单的接口。让我们使用摄像头来捕获一段视频，并把它转换成灰度视频显示出来。从这个简单的任务开始吧。\n",
    "- 为了获取视频，你应该创建一个VideoCapture对象。他的参数可以是设备的索引号，或者是一个视频文件。设备索引号就是在指定要使用的摄像头。一般的笔记本电脑都有内置摄像头。所以参数就是0。你可以通过设置成1或者其他的来选择别的摄像头。之后，你就可以一帧一帧的捕获视频了。但是最后，别忘了停止捕获视频。"
   ]
  },
  {
   "cell_type": "code",
   "execution_count": null,
   "metadata": {},
   "outputs": [],
   "source": [
    "import numpy as np \n",
    "import cv2\n",
    "cap = cv2.VideoCapture(0)  \n",
    "while True:\n",
    "    #Captureframe-by-frame\n",
    "    ret, frame = cap.read()\n",
    "    \n",
    "    #Our operations on the frame come here\n",
    "    gray=cv2.cvtColor(frame,cv2.COLOR_BGR2GRAY)\n",
    "    \n",
    "    #Display the resulting frame\n",
    "    cv2.imshow('frame',gray)\n",
    "    if cv2.waitKey(1)&0xFF==ord('q'):\n",
    "        break\n",
    "# When everything done,release the capture\n",
    "cap.release() \n",
    "cv2.destroyAllWindows()  "
   ]
  },
  {
   "cell_type": "markdown",
   "metadata": {},
   "source": [
    "- cap.read()返回一个布尔值（True/False）。如果帧读取的是正确的，就是True。所以最后你可以通过检查他的返回值来查看视频文件是否已经到了结尾。\n",
    "- 有时cap可能不能成功的初始化摄像头设备。这种情况下上面的代码会报错。你可以使用cap.isOpened()，来检查是否成功初始化了。如果返回值是True，那就没有问题。否则就要使用函数cap.open()。\n",
    "- 你可以使用函数cap.get(propId)来获得视频的一些参数信息。这里propId可以是0到18之间的任何整数。每一个数代表视频的一个属性，见下表\n",
    "- 其中的一些值可以使用cap.set(propId,value)来修改，value就是你想要设置成的新值。\n",
    "- 例如，我可以使用cap.get(3)和cap.get(4)来查看每一帧的宽和高。默认情况下得到的值是640X480。但是我可以使用ret=cap.set(3,320)和ret=cap.set(4,240)来把宽和高改成320X240。"
   ]
  },
  {
   "cell_type": "markdown",
   "metadata": {},
   "source": [
    "<table ><tr align=left><td bgcolor=green ><p algin=left>注意：当你的程序报错时，你首先应该检查的是你的摄像头是否能够在其他程序中正常工作（比如linux下的Cheese）</p></td></tr></table>"
   ]
  },
  {
   "cell_type": "markdown",
   "metadata": {},
   "source": [
    "## 2.2 从文件中播放视频"
   ]
  },
  {
   "cell_type": "markdown",
   "metadata": {},
   "source": [
    "与从摄像头中捕获一样，你只需要把设备索引号改成视频文件的名字。在播放每一帧时，使用cv2.waiKey()设置适当的持续时间。如果设置的太低视频就会播放的非常快，如果设置的太高就会播放的很慢（你可以使用这种方法控制视频的播放速度）。通常情况下25毫秒就可以了。"
   ]
  },
  {
   "cell_type": "markdown",
   "metadata": {},
   "source": [
    "| 参数名 | 作用 | \n",
    "| :------| ------: | \n",
    "| CV_CAP_PROP_POS_MSEC | Current position of the video ﬁle in milliseconds | \n",
    "| CV_CAP_PROP_POS_FRAMES | 0-based index of the frame to be decoded/captured next |\n",
    "| CV_CAP_PROP_POS_AVI_RATIO | Relative position of the video ﬁle:0-start of the ﬁlm,1-end of the ﬁlm |\n",
    "| CV_CAP_PROP_FRAME_WIDTH | Width of the frames in the video stream |\n",
    "| CV_CAP_PROP_FRAME_HEIGHT | Height of the frames in the video stream |\n",
    "| CV_CAP_PROP_FPS | Frame rate |\n",
    "| CV_CAP_PROP_FOURCC | 4-character code of codec |\n",
    "| CV_CAP_PROP_FRAME_COUNT | Numberofframesinthevideoﬁle |\n",
    "| CV_CAP_PROP_FORMAT | Format of the Mat objects returned by retrieve() |\n",
    "| CV_CAP_PROP_MODE | Backend-speciﬁc value indicating the current capture mode |\n",
    "| CV_CAP_PROP_BRIGHTNESS | Brightness of the image(only for cameras) |\n",
    "| CV_CAP_PROP_CONTRAST | Contrast of the image(only for cameras) |\n",
    "| CV_CAP_PROP_SATURATION | Saturation of the image(only for cameras) |\n",
    "| CV_CAP_PROP_HUE | Hue of the image(only for cameras) |\n",
    "| CV_CAP_PROP_GAIN | Gainoftheimage(onlyforcameras) |\n",
    "| CV_CAP_PROP_EXPOSURE | Exposure(only for cameras) |\n",
    "| CV_CAP_PROP_CONVERT_RGB | Boolean ﬂags indicating whether images should be converted to RGB |\n",
    "| CV_CAP_PROP_WHITE_BALANCE | Currently unsupported |\n",
    "| CV_CAP_PROP_RECTIFICATION | Rectiﬁcation ﬂag for stereocameras (note:only supported by DC1394 v 2.x backend cur-rently) |"
   ]
  },
  {
   "cell_type": "code",
   "execution_count": null,
   "metadata": {},
   "outputs": [],
   "source": [
    "import numpy as np \n",
    "import cv2\n",
    "cap = cv2.VideoCapture('video.avi')  # 调用目录下的视频\n",
    "while True:\n",
    "    # 读取图像(frame就是读取的视频帧，对frame处理就是对整个视频的处理)\n",
    "    ret, frame = cap.read()\n",
    "    if ret:\n",
    "        cv2.imshow(\"img\", frame)\n",
    "    else:\n",
    "        break\n",
    "  \n",
    "\n",
    "    input = cv2.waitKey(25)\n",
    "    if input == ord('q'):  # 如过输入的是q就break，结束图像显示，鼠标点击视频画面输入字符\n",
    "        cv2.imwrite('video_cut.png', frame)#保存图片\n",
    "        break\n",
    "\n",
    "cap.release()  # 释放摄像头\n",
    "cv2.destroyAllWindows()  # 销毁窗口\n"
   ]
  },
  {
   "cell_type": "markdown",
   "metadata": {},
   "source": [
    "## 2.3保存视频\n",
    "- 在我们捕获视频，并对每一帧都进行加工之后我们想要保存这个视频。对于图片来时很简单只需要使用cv2.imwrite()。但对于视频来说就要多做点工作。\n",
    "- 这次我们要创建一个VideoWriter的对象。我们应该确定一个输出文件的名字。接下来指定FourCC编码（下面会介绍）。播放频率和帧的大小也都需要确定。最后一个是isColor标签。如果是True，每一帧就是彩色图，否则就是灰度图。\n",
    "- FourCC就是一个4字节码，用来确定视频的编码格式。可用的编码列表可以从fourcc.org查到。这是平台依赖的。下面这些编码器对我来说是有用个。\n",
    "- InFedora:DIVX,XVID,MJPG,X264,WMV1,WMV2.(XVIDismorepreferable.MJPGresultsinhighsizevideo.X264givesverysmallsizevideo)\n",
    "- InWindows:DIVX(Moretobetestedandadded)\n",
    "- InOSX:(Idon’thaveaccesstoOSX.Cansomeoneﬁllthis?)\n",
    "- FourCC码以下面的格式传给程序，以MJPG为例：\n",
    "    cv2.cv.FOURCC('M','J','P','G')或者cv2.cv.FOURCC(*'MJPG')。\n",
    "    下面的代码是从摄像头中捕获视频，沿水平方向旋转每一帧并保存它。"
   ]
  },
  {
   "cell_type": "code",
   "execution_count": null,
   "metadata": {},
   "outputs": [],
   "source": [
    "\n",
    "import numpy as np \n",
    "import cv2\n",
    "cap=cv2.VideoCapture(0)\n",
    "#Define the codec and create VideoWriter object\n",
    "fourcc=cv2.cv.FOURCC(*'XVID')\n",
    "out=cv2.VideoWriter('output.avi',fourcc,20.0,(640,480))\n",
    "while(cap.isOpened()):\n",
    "    ret,frame=cap.read()\n",
    "    if ret==True:\n",
    "        frame=cv2.flip(frame,0)\n",
    "        #write the flipped frame\n",
    "        out.write(frame)\n",
    "        \n",
    "        cv2.imshow('frame',frame)\n",
    "        if cv2.waitKey(1)&0xFF==ord('q'):\n",
    "            break\n",
    "    else:\n",
    "        break\n",
    "#Release everything if job is finished\n",
    "cap.release()\n",
    "out.release()\n",
    "cv2.destroyAllWindows()"
   ]
  }
 ],
 "metadata": {
  "kernelspec": {
   "display_name": "Python 3",
   "language": "python",
   "name": "python3"
  },
  "language_info": {
   "codemirror_mode": {
    "name": "ipython",
    "version": 3
   },
   "file_extension": ".py",
   "mimetype": "text/x-python",
   "name": "python",
   "nbconvert_exporter": "python",
   "pygments_lexer": "ipython3",
   "version": "3.6.8"
  }
 },
 "nbformat": 4,
 "nbformat_minor": 4
}
