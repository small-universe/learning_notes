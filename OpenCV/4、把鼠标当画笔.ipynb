{
 "cells": [
  {
   "cell_type": "markdown",
   "metadata": {},
   "source": [
    "# 把鼠标当画笔\n",
    "## 目标\n",
    "- 学习使用OpenCV处理鼠标事件\n",
    "- 你将要学习的函数是：cv2.setMouseCallback()\n",
    "## 4.1简单演示\n",
    "- 这里我们来创建一个简单的程序，他会在图片上你双击过的位置绘制一个圆圈。\n",
    "- 首先我们来创建一个鼠标事件回调函数，但鼠标事件发生时他就会被执行。鼠标事件可以是鼠标上的任何动作，比如左键按下，左键松开，左键双击等。我们可以通过鼠标事件获得与鼠标对应的图片上的坐标。根据这些信息我们可以做任何我们想做的事。你可以通过执行下列代码查看所有被支持的鼠标事件。"
   ]
  },
  {
   "cell_type": "code",
   "execution_count": 4,
   "metadata": {},
   "outputs": [
    {
     "name": "stdout",
     "output_type": "stream",
     "text": [
      "['EVENT_FLAG_ALTKEY', 'EVENT_FLAG_CTRLKEY', 'EVENT_FLAG_LBUTTON', 'EVENT_FLAG_MBUTTON', 'EVENT_FLAG_RBUTTON', 'EVENT_FLAG_SHIFTKEY', 'EVENT_LBUTTONDBLCLK', 'EVENT_LBUTTONDOWN', 'EVENT_LBUTTONUP', 'EVENT_MBUTTONDBLCLK', 'EVENT_MBUTTONDOWN', 'EVENT_MBUTTONUP', 'EVENT_MOUSEHWHEEL', 'EVENT_MOUSEMOVE', 'EVENT_MOUSEWHEEL', 'EVENT_RBUTTONDBLCLK', 'EVENT_RBUTTONDOWN', 'EVENT_RBUTTONUP']\n"
     ]
    }
   ],
   "source": [
    "import cv2\n",
    "events=[i for i in dir(cv2) if 'EVENT'in i]\n",
    "print(events)"
   ]
  },
  {
   "cell_type": "markdown",
   "metadata": {},
   "source": [
    "所有的鼠标事件回调函数都有一个统一的格式，他们所不同的地方仅仅是被调用后的功能。我们的鼠标事件回调函数只用做一件事：在双击过的地方绘制一个圆圈。下面是代码，不懂的地方可以看看注释。"
   ]
  },
  {
   "cell_type": "code",
   "execution_count": 7,
   "metadata": {},
   "outputs": [],
   "source": [
    "import cv2\n",
    "import numpy as np\n",
    "\n",
    "#mouse callback function\n",
    "def draw_circle(event,x,y,flags,param):\n",
    "    if event==cv2.EVENT_LBUTTONDBLCLK:\n",
    "        cv2.circle(img,(x,y),100,(255,0,0),-1)\n",
    "    \n",
    "# 创建图像与窗口并将窗口与回调函数绑定\n",
    "img=np.zeros((512,512,3),np.uint8)\n",
    "cv2.namedWindow('image')\n",
    "cv2.setMouseCallback('image',draw_circle)\n",
    "while(1):\n",
    "    cv2.imshow('image',img)\n",
    "    if cv2.waitKey(20)&0xFF==27:\n",
    "        break\n",
    "cv2.destroyAllWindows()"
   ]
  },
  {
   "cell_type": "markdown",
   "metadata": {},
   "source": [
    "## 4.2 高级一点的示例\n",
    "现在我们来创建一个更好的程序。这次我们的程序要完成的任务是根据我\n",
    "们选择的模式在拖动鼠标时绘制矩形或者是圆圈（就像画图程序中一样）。所以\n",
    "我们的回调函数包含两部分，一部分画矩形，一部分画圆圈。这是一个典型的\n",
    "例子他可以帮助我们更好理解与构建人机交互式程序，比如物体跟踪，图像分\n",
    "割等。"
   ]
  },
  {
   "cell_type": "code",
   "execution_count": 10,
   "metadata": {},
   "outputs": [],
   "source": [
    "import cv2\n",
    "import numpy as np\n",
    "# 当鼠标按下时变为 True\n",
    "drawing=False\n",
    "# 如果 mode 为 true 绘制矩形。按下'm' 变成绘制曲线。\n",
    "mode=True\n",
    "ix,iy=-1,-1\n",
    "# 创建回调函数\n",
    "def draw_circle(event,x,y,flags,param):\n",
    "    global ix,iy,drawing,mode\n",
    "    # 当按下左键是返回起始位置坐标\n",
    "    if event==cv2.EVENT_LBUTTONDOWN:\n",
    "        drawing=True\n",
    "        ix,iy=x,y\n",
    "    # 当鼠标左键按下并移动是绘制图形。 event 可以查看移动， flag 查看是否按下\n",
    "    elif event==cv2.EVENT_MOUSEMOVE and flags==cv2.EVENT_FLAG_LBUTTON:\n",
    "        if drawing==True:\n",
    "            if mode==True:\n",
    "                cv2.rectangle(img,(ix,iy),(x,y),(0,255,0),-1)\n",
    "            else:\n",
    "                # 绘制圆圈，小圆点连在一起就成了线， 3 代表了笔画的粗细\n",
    "                cv2.circle(img,(x,y),3,(0,0,255),-1)\n",
    "                # 下面注释掉的代码是起始点为圆心，起点到终点为半径的\n",
    "                # r=int(np.sqrt((x-ix)**2+(y-iy)**2))\n",
    "                # cv2.circle(img,(x,y),r,(0,0,255),-1)\n",
    "    # 当鼠标松开停止绘画。\n",
    "    elif event==cv2.EVENT_LBUTTONUP:\n",
    "        drawing==False\n",
    "        # if mode==True:\n",
    "        #    cv2.rectangle(img,(ix,iy),(x,y),(0,255,0),-1)\n",
    "        # else:\n",
    "        #    cv2.circle(img,(x,y),5,(0,0,255),-1)"
   ]
  },
  {
   "cell_type": "markdown",
   "metadata": {},
   "source": [
    "下面我们要把这个回调函数与 OpenCV 窗口绑定在一起。在主循环中我\n",
    "们需要将键盘上的“m”键与模式转换绑定在一起。"
   ]
  },
  {
   "cell_type": "code",
   "execution_count": 11,
   "metadata": {},
   "outputs": [],
   "source": [
    "img=np.zeros((512,512,3),np.uint8)\n",
    "cv2.namedWindow('image')\n",
    "cv2.setMouseCallback('image',draw_circle)\n",
    "while(1):\n",
    "    cv2.imshow('image',img)\n",
    "    k=cv2.waitKey(1)\n",
    "    if k==ord('m'):\n",
    "        mode=not mode\n",
    "    elif k==27:\n",
    "        cv2.destroyWindow('image')\n",
    "        break"
   ]
  },
  {
   "cell_type": "markdown",
   "metadata": {},
   "source": [
    "## 更多资源\n",
    "### 练习\n",
    "1. 在我们最后的一个练习中，我们绘制的是一个填充的矩形。你可以试着修改代码绘制一个没有填充的矩形。"
   ]
  }
 ],
 "metadata": {
  "kernelspec": {
   "display_name": "Python 3",
   "language": "python",
   "name": "python3"
  },
  "language_info": {
   "codemirror_mode": {
    "name": "ipython",
    "version": 3
   },
   "file_extension": ".py",
   "mimetype": "text/x-python",
   "name": "python",
   "nbconvert_exporter": "python",
   "pygments_lexer": "ipython3",
   "version": "3.6.8"
  }
 },
 "nbformat": 4,
 "nbformat_minor": 4
}
